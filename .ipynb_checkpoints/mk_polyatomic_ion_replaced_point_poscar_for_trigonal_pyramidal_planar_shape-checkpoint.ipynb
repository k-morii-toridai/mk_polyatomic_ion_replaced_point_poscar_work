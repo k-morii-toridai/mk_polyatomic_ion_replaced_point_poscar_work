{
 "cells": [
  {
   "cell_type": "code",
   "execution_count": 54,
   "id": "72608759-7581-452f-8f6d-73988f27dd91",
   "metadata": {
    "tags": []
   },
   "outputs": [],
   "source": [
    "# %load_ext autoreload\n",
    "%reload_ext autoreload\n",
    "%autoreload 2\n",
    "import os\n",
    "import itertools\n",
    "from pathlib import Path\n",
    "from multiprocessing import Pool, cpu_count\n",
    "\n",
    "import pandas as pd\n",
    "\n",
    "from package_file_conversion.poscar2df import poscar2df\n",
    "from package_file_conversion.nnlist2df import nnlist2df\n",
    "from package_bond_search_algorithm.algolithm_bond_search_for_trigonal_pyramidal_planar_shape import concat_filter\n",
    "from package_file_conversion.df2poscar import df2poscar"
   ]
  },
  {
   "cell_type": "code",
   "execution_count": 55,
   "id": "30797e0f-5ed5-442a-8bcc-db07ebc2e069",
   "metadata": {
    "tags": []
   },
   "outputs": [
    {
     "data": {
      "text/plain": [
       "array([PosixPath('/mnt/ssd_elecom_c2c_960gb/cif/1/00/00/1000033'),\n",
       "       PosixPath('/mnt/ssd_elecom_c2c_960gb/cif/1/00/00/1000052'),\n",
       "       PosixPath('/mnt/ssd_elecom_c2c_960gb/cif/1/00/03/1000320'), ...,\n",
       "       PosixPath('/mnt/ssd_elecom_c2c_960gb/cif/9/01/77/9017727'),\n",
       "       PosixPath('/mnt/ssd_elecom_c2c_960gb/cif/9/01/78/9017813'),\n",
       "       PosixPath('/mnt/ssd_elecom_c2c_960gb/cif/9/01/78/9017837')],\n",
       "      dtype=object)"
      ]
     },
     "execution_count": 55,
     "metadata": {},
     "output_type": "execute_result"
    }
   ],
   "source": [
    "### 炭酸イオンを含む結晶構造ファイルパス一覧\n",
    "import numpy as np\n",
    "np.load('/mnt/ssd_elecom_c2c_960gb/scripts/get_some_ion_contained_pos_folder_p_list/CO3_contained_poscar_folder_path_list_ver2.npy', allow_pickle=True)"
   ]
  },
  {
   "cell_type": "code",
   "execution_count": 56,
   "id": "a3d7aebf-bbdb-44b6-9eb7-e4bc9695a29d",
   "metadata": {
    "tags": []
   },
   "outputs": [],
   "source": [
    "def mk_polyatomic_ion_replaced_point_poscar(poscar_path,\n",
    "                                            nnlist_path,\n",
    "                                            central_atom_symbol='C', \n",
    "                                            neighboring_atom_symbol='O', \n",
    "                                            bond_length_lower_end=0.99, \n",
    "                                            bond_length_upper_end=1.66, \n",
    "                                            generated_poscar_path='./ion_replaced_point/POSCAR'):\n",
    "    # 0-1. POSCAR, POSCAR.nnlistをDataFrameに変換する\n",
    "    df_poscar = poscar2df(poscar_path=poscar_path)\n",
    "    df_nnlist = nnlist2df(nnlist_path=nnlist_path)\n",
    "    \n",
    "    # 0-2. 多原子イオンを含むかどうかの判定フィルター関数を実行\n",
    "    central_atom_symbol = central_atom_symbol\n",
    "    neighboring_atom_symbol = neighboring_atom_symbol\n",
    "    bond_length_lower_end = bond_length_lower_end\n",
    "    bond_length_upper_end = bond_length_upper_end\n",
    "    bool_, ion_central_atom_ids = concat_filter(df_nnlist=df_nnlist,\n",
    "                  central_atom_symbol=central_atom_symbol,\n",
    "                  neighboring_atom_symbol=neighboring_atom_symbol,\n",
    "                  bond_length_lower_end=bond_length_lower_end,\n",
    "                  bond_length_upper_end=bond_length_upper_end)\n",
    "    \n",
    "    if bool_:\n",
    "        # 1. 多原子イオンを点で置換した絶対座標のDataFrameを作成\n",
    "        atom_ids_belonging_to_polyatomic_ions = []\n",
    "        for ion_central_atom_id in ion_central_atom_ids: \n",
    "            df_nnlist_ion_central_atom_id_filterd = df_nnlist[df_nnlist['central_atom_id'] == ion_central_atom_id]\n",
    "            df_nnlist_ion_central_atom_id_filterd_sorted = df_nnlist_ion_central_atom_id_filterd.sort_values('rel_distance')\n",
    "            df_nnlist_rel_distance_filter = df_nnlist_ion_central_atom_id_filterd_sorted['rel_distance'] < bond_length_upper_end\n",
    "            df_nnlist_rel_distance_filterd = df_nnlist_ion_central_atom_id_filterd.sort_values('rel_distance')[df_nnlist_rel_distance_filter]\n",
    "            ## 'neighboring_atom_id'カラムをリストとして取得\n",
    "            neighboring_atom_ids = df_nnlist_rel_distance_filterd['neighboring_atom_id'].tolist()\n",
    "            atom_ids_belonging_to_polyatomic_ions.append(neighboring_atom_ids)\n",
    "        # 2重リストを1重リストに変換\n",
    "        atom_ids_belonging_to_polyatomic_ions = list(itertools.chain.from_iterable(atom_ids_belonging_to_polyatomic_ions))\n",
    "        # 数字の順番に並べ替え\n",
    "        atom_ids_belonging_to_polyatomic_ions = sorted(atom_ids_belonging_to_polyatomic_ions, key=lambda s: int(s))\n",
    "        # df_poscarから，多原子イオンに属す原子を抽出するフィルターを作成\n",
    "        atom_ids_belonging_to_polyatomic_ions_filter = df_poscar['atom_id'].apply(lambda s: s in atom_ids_belonging_to_polyatomic_ions)\n",
    "        # df_poscarから，多原子イオンに属さない原子を抽出するフィルターを作成\n",
    "        atom_ids_not_belonging_to_polyatomic_ions_filter = ~atom_ids_belonging_to_polyatomic_ions_filter\n",
    "        # df_poscarから，多原子イオンに属しかつ中心原子となる原子を抽出するフィルターを作成\n",
    "        atom_ids_that_polyatomic_ions_center_filter = df_poscar['atom_id'].apply(lambda s: s in ion_central_atom_ids)\n",
    "        # フィルターを結合し，（多原子イオンに含まれない）または（多原子イオンに含まれかつ多原子イオンの中心）となる行を抽出するフィルターを作成\n",
    "        new_poscar_atom_ids_filter = atom_ids_not_belonging_to_polyatomic_ions_filter | atom_ids_that_polyatomic_ions_center_filter\n",
    "        # 作成したフィルターを適用し，多原子イオンを点で置換した絶対座標のDataFrameを作成\n",
    "        df_poscar_abs_coords = df_poscar[new_poscar_atom_ids_filter]\n",
    "\n",
    "        # 2. 多原子イオンの相対中心座標のDataFrameを作成\n",
    "        df_nnlist_rel_coords_series_list = []\n",
    "        for ion_central_atom_id in ion_central_atom_ids: \n",
    "            df_nnlist_ion_central_atom_id_filterd = df_nnlist[df_nnlist['central_atom_id'] == ion_central_atom_id]\n",
    "            df_nnlist_ion_central_atom_id_filterd_sorted = df_nnlist_ion_central_atom_id_filterd.sort_values('rel_distance')\n",
    "            df_nnlist_rel_distance_filter = df_nnlist_ion_central_atom_id_filterd_sorted['rel_distance'] < bond_length_upper_end    \n",
    "            df_nnlist_rel_distance_filterd = df_nnlist_ion_central_atom_id_filterd.sort_values('rel_distance')[df_nnlist_rel_distance_filter]\n",
    "            ## rel_x, re_y, re_zごとに平均をとる\n",
    "            df_nnlist_rel_distance_filterd_cols_dropped = df_nnlist_rel_distance_filterd[['central_atom_id', 'rel_x', 'rel_y', 'rel_z']]\n",
    "            # 'central_atom_symbol'カラムでgroupbyしmeanを計算した後，groupbyed列(:'central_atom_symbol'カラム)をカラムにする   \n",
    "            df_nnlist_rel_distance_filterd_cols_dropped_meaned = df_nnlist_rel_distance_filterd_cols_dropped.groupby('central_atom_id').mean().reset_index()\n",
    "            df_nnlist_rel_coords_series_list.append(df_nnlist_rel_distance_filterd_cols_dropped_meaned)\n",
    "        # df_nnlist_rel_coords_series_listのSeriesを文字列化して，df_poscarと同じ形式のDataFrameに整形する\n",
    "        df_nnlist_rel_coords_list = [str(s).split(' ')[-4:] for s in df_nnlist_rel_coords_series_list]\n",
    "        df_nnlist_rel_coords = pd.DataFrame(df_nnlist_rel_coords_list, columns=['central_atom_id', 'rel_x', 'rel_y', 'rel_z'])\n",
    "        # 'rel_x', 'rel_y', 'rel_z'カラムをstr型からfloat型に変換\n",
    "        df_nnlist_rel_coords[['rel_x', 'rel_y', 'rel_z']] = df_nnlist_rel_coords[['rel_x', 'rel_y', 'rel_z']].astype(float)\n",
    "\n",
    "        # 3. 1.で得たdf_poscar_abs_coordsと2.で得たdf_nnlist_rel_coordsを足し合わせる\n",
    "        # 足し合わせ計算の便宜上，2つのDataFrameを1つのDataFrameに結合する\n",
    "        df_nnlist_poscar_merged = pd.merge(df_poscar_abs_coords, df_nnlist_rel_coords, left_on='atom_id', right_on='central_atom_id', how='left')\n",
    "        df_nnlist_poscar_merged[['rel_x', 'rel_y', 'rel_z']] = df_nnlist_poscar_merged[['rel_x', 'rel_y', 'rel_z']].fillna(0)\n",
    "        # 多原子イオンの絶対中心座標と相対座標を足し合わせる\n",
    "        df_nnlist_poscar_merged['x'] = df_nnlist_poscar_merged['x'] + df_nnlist_poscar_merged['rel_x']\n",
    "        df_nnlist_poscar_merged['y'] = df_nnlist_poscar_merged['y'] + df_nnlist_poscar_merged['rel_y']\n",
    "        df_nnlist_poscar_merged['z'] = df_nnlist_poscar_merged['z'] + df_nnlist_poscar_merged['rel_z']\n",
    "        # 多原子イオンの絶対中心座標と相対座標の足し合わせのために便宜上用意した，不要なカラムを削除\n",
    "        df_poscar_ion_replaced_point = df_nnlist_poscar_merged.drop(columns=['central_atom_id', 'rel_x', 'rel_y', 'rel_z'])\n",
    "\n",
    "        # 4. 3.で生成したdf_poscar_ion_replaced_pointをdf2poscar()を用いてPOSCARファイルとして書き出す\n",
    "        df2poscar(df_poscar_ion_replaced_point, original_poscar_path=poscar_path, generated_poscar_path=generated_poscar_path)\n",
    "    \n",
    "    else:\n",
    "        pass"
   ]
  },
  {
   "cell_type": "code",
   "execution_count": 4,
   "id": "3a863d48-fabd-4784-8f37-b378114d5482",
   "metadata": {
    "tags": []
   },
   "outputs": [
    {
     "name": "stdout",
     "output_type": "stream",
     "text": [
      "./gen_data/POSCAR に多原子イオンを点置換した情報がPOSCARに書き込まれました．\n"
     ]
    }
   ],
   "source": [
    "# poscar_path = '/mnt/ssd_elecom_c2c_960gb/cif/1/00/03/1000320/POSCAR'\n",
    "# nnlist_path = '/mnt/ssd_elecom_c2c_960gb/cif/1/00/03/1000320/nnlist_5/POSCAR.nnlist'\n",
    "# # 0. 多原子イオンごとの情報をCLIから受け取る\n",
    "# central_atom_symbol = 'C'\n",
    "# neighboring_atom_symbol = 'O'\n",
    "# bond_length_lower_end = 0.99\n",
    "# bond_length_upper_end = 1.66\n",
    "# generated_poscar_path='./ion_replaced_point/POSCAR'\n",
    "# mk_polyatomic_ion_replaced_point_poscar(poscar_path=poscar_path,\n",
    "#                                         nnlist_path=nnlist_path,\n",
    "#                                         central_atom_symbol=central_atom_symbol,\n",
    "#                                         neighboring_atom_symbol=neighboring_atom_symbol,\n",
    "#                                         bond_length_lower_end=bond_length_lower_end, \n",
    "#                                         bond_length_upper_end=bond_length_upper_end, \n",
    "#                                         generated_poscar_path=generated_poscar_path)"
   ]
  },
  {
   "cell_type": "code",
   "execution_count": 8,
   "id": "7c59c141-3cb3-4bec-a84e-1f47fc700dc9",
   "metadata": {
    "tags": []
   },
   "outputs": [
    {
     "name": "stdout",
     "output_type": "stream",
     "text": [
      "target_ion_name: CO3\n",
      "central_atom_symbol: C\n",
      "neighboring_atom_symbol: O\n",
      "bond_length_lower_end: 0.99\n",
      "bond_length_upper_end: 1.66\n",
      "target_npy_p: ../get_some_ion_contained_pos_folder_p_list/CO3_contained_poscar_folder_path_list_ver2.npy\n",
      "os.path.exists(target_npy_p): True\n",
      "len(some_species_existed_poscar_folder_path_list): 1143\n"
     ]
    }
   ],
   "source": [
    "# # コマンドライン引数を受け取る\n",
    "# parser = argparse.ArgumentParser(description='This script takes five arguments: arg1, arg2, arg3, arg4, arg5 and arg6.',\n",
    "#                                  usage='%(prog)s <arg1> <arg2> <arg3> <arg4> <arg5> <arg6> \\\n",
    "#                                  \\nexample: python3 %(prog)s CO3 C O 0.99 1.66 ../get_some_ion_contained_pos_folder_p_list/CO3_contained_poscar_folder_path_list_ver2.npy)\n",
    "# parser.add_argument('arg1', help='target_ion_name: CO3')\n",
    "# parser.add_argument('arg2', help='central_atom_symbol: C')\n",
    "# parser.add_argument('arg3', help='neighboring_atom_symbol: O')\n",
    "# parser.add_argument('arg4', help='bond_length_lower_end: 0.99')\n",
    "# parser.add_argument('arg5', help='bond_length_upper_end: 1.66')\n",
    "# parser.add_argument('arg6', help='npy_file_path: ../get_some_ion_contained_pos_folder_p_list/CO3_contained_poscar_folder_path_list_ver2.npy')\n",
    "# args = parser.parse_args()\n",
    "# target_ion_name = args.arg1\n",
    "# central_atom_symbol = args.arg2\n",
    "# neighboring_atom_symbol = args.arg3\n",
    "# bond_length_lower_end = args.arg4\n",
    "# bond_length_upper_end = args.arg5\n",
    "# target_npy_p = args.arg6\n",
    "\n",
    "target_ion_name = 'CO3'\n",
    "central_atom_symbol = 'C'\n",
    "neighboring_atom_symbol = 'O'\n",
    "bond_length_lower_end = 0.99\n",
    "bond_length_upper_end = 1.66\n",
    "target_npy_p = '../get_some_ion_contained_pos_folder_p_list/CO3_contained_poscar_folder_path_list_ver2.npy'\n",
    "print(f'target_ion_name: {target_ion_name}')\n",
    "print(f'central_atom_symbol: {central_atom_symbol}')\n",
    "print(f'neighboring_atom_symbol: {neighboring_atom_symbol}')\n",
    "print(f'bond_length_lower_end: {bond_length_lower_end}')\n",
    "print(f'bond_length_upper_end: {bond_length_upper_end}')\n",
    "print(f'target_npy_p: {target_npy_p}')\n",
    "print(f'os.path.exists(target_npy_p): {os.path.exists(target_npy_p)}')\n",
    "\n",
    "some_species_existed_poscar_folder_path_list = np.load(target_npy_p, allow_pickle=True)\n",
    "print(f\"len(some_species_existed_poscar_folder_path_list): {len(some_species_existed_poscar_folder_path_list)}\")"
   ]
  },
  {
   "cell_type": "code",
   "execution_count": 57,
   "id": "e2432ca8-72f2-407f-b547-bd4ffc56a185",
   "metadata": {
    "tags": []
   },
   "outputs": [],
   "source": [
    "ion_contained_poscar_folder_p_list = np.load(target_npy_p, allow_pickle=True)\n",
    "# ion_contained_poscar_folder_p_list[0]\n",
    "# print(ion_contained_nnlist_path_list[0])\n",
    "# import os; os.path.exists(ion_contained_nnlist_path_list[0])"
   ]
  },
  {
   "cell_type": "code",
   "execution_count": 58,
   "id": "8cdc51b5-af6d-49b7-9a04-0a8966ad069e",
   "metadata": {
    "tags": []
   },
   "outputs": [],
   "source": [
    "def wrap_mk_polyatomic_ion_replaced_point_poscar(args):\n",
    "    return mk_polyatomic_ion_replaced_point_poscar(*args)\n",
    "\n",
    "\n",
    "def mk_job_args(ion_contained_poscar_folder_p_list, target_ion_name, central_atom_symbol, neighboring_atom_symbol, bond_length_lower_end, bond_length_upper_end):\n",
    "    # ターゲットとなるイオンの元素種を含むPOSCARとPOSCAR.nnlistのディレクトリパス一覧を取得\n",
    "    poscar_add_atr = '/POSCAR'\n",
    "    nnlist_add_str = '/nnlist_5/POSCAR.nnlist'\n",
    "    gen_poscar_add_str = f'/{target_ion_name}_ion_replaced_point/POSCAR'\n",
    "    ion_contained_poscar_path_list = [Path(str(p) + poscar_add_atr) for p in ion_contained_poscar_folder_p_list]\n",
    "    ion_contained_nnlist_path_list = [Path(str(p) + nnlist_add_str) for p in ion_contained_poscar_folder_p_list]\n",
    "    generated_poscar_path_list = [Path(str(p) + gen_poscar_add_str) for p in ion_contained_poscar_folder_p_list]\n",
    "    number_of_poscar = len(ion_contained_poscar_folder_p_list)\n",
    "    central_atom_symbol_list = [central_atom_symbol for i in range(number_of_poscar)]\n",
    "    neighboring_atom_symbol_list = [neighboring_atom_symbol for i in range(number_of_poscar)]\n",
    "    bond_length_lower_end_list = [bond_length_lower_end for i in range(number_of_poscar)]\n",
    "    bond_length_upper_end_list = [bond_length_upper_end for i in range(number_of_poscar)]\n",
    "    job_args = zip(ion_contained_poscar_path_list,\n",
    "                   ion_contained_nnlist_path_list,\n",
    "                   central_atom_symbol_list,\n",
    "                   neighboring_atom_symbol_list,\n",
    "                   bond_length_lower_end_list,\n",
    "                   bond_length_upper_end_list,\n",
    "                   generated_poscar_path_list)\n",
    "\n",
    "    return job_args\n",
    "\n",
    "\n",
    "job_args = mk_job_args(ion_contained_poscar_folder_p_list,\n",
    "                       target_ion_name=target_ion_name,\n",
    "                       central_atom_symbol=central_atom_symbol,\n",
    "                       neighboring_atom_symbol=neighboring_atom_symbol,\n",
    "                       bond_length_lower_end=bond_length_lower_end,\n",
    "                       bond_length_upper_end=bond_length_upper_end)"
   ]
  },
  {
   "cell_type": "code",
   "execution_count": 59,
   "id": "fdf712b3-16c6-4613-87c1-43b07bef2573",
   "metadata": {
    "tags": []
   },
   "outputs": [
    {
     "data": {
      "text/plain": [
       "PosixPath('/mnt/ssd_elecom_c2c_960gb/cif/1/00/00/1000033')"
      ]
     },
     "execution_count": 59,
     "metadata": {},
     "output_type": "execute_result"
    }
   ],
   "source": [
    "ion_contained_poscar_folder_p_list[0]"
   ]
  },
  {
   "cell_type": "code",
   "execution_count": null,
   "id": "37b806e1-a56c-476e-b811-2b766cfa6dfe",
   "metadata": {},
   "outputs": [],
   "source": [
    "os.path.split()"
   ]
  },
  {
   "cell_type": "code",
   "execution_count": 60,
   "id": "f9e22155-7b59-41f9-bd5a-536348fefe84",
   "metadata": {
    "tags": []
   },
   "outputs": [
    {
     "ename": "IsADirectoryError",
     "evalue": "[Errno 21] Is a directory: '/mnt/ssd_elecom_c2c_960gb/cif/1/00/00/1000033/CO3_ion_replaced_point/POSCAR'",
     "output_type": "error",
     "traceback": [
      "\u001b[0;31m---------------------------------------------------------------------------\u001b[0m",
      "\u001b[0;31mIsADirectoryError\u001b[0m                         Traceback (most recent call last)",
      "Cell \u001b[0;32mIn[60], line 1\u001b[0m\n\u001b[0;32m----> 1\u001b[0m \u001b[43mwrap_mk_polyatomic_ion_replaced_point_poscar\u001b[49m\u001b[43m(\u001b[49m\u001b[38;5;28;43mlist\u001b[39;49m\u001b[43m(\u001b[49m\u001b[43mjob_args\u001b[49m\u001b[43m)\u001b[49m\u001b[43m[\u001b[49m\u001b[38;5;241;43m0\u001b[39;49m\u001b[43m]\u001b[49m\u001b[43m)\u001b[49m\n",
      "Cell \u001b[0;32mIn[58], line 2\u001b[0m, in \u001b[0;36mwrap_mk_polyatomic_ion_replaced_point_poscar\u001b[0;34m(args)\u001b[0m\n\u001b[1;32m      1\u001b[0m \u001b[38;5;28;01mdef\u001b[39;00m \u001b[38;5;21mwrap_mk_polyatomic_ion_replaced_point_poscar\u001b[39m(args):\n\u001b[0;32m----> 2\u001b[0m     \u001b[38;5;28;01mreturn\u001b[39;00m \u001b[43mmk_polyatomic_ion_replaced_point_poscar\u001b[49m\u001b[43m(\u001b[49m\u001b[38;5;241;43m*\u001b[39;49m\u001b[43margs\u001b[49m\u001b[43m)\u001b[49m\n",
      "Cell \u001b[0;32mIn[56], line 79\u001b[0m, in \u001b[0;36mmk_polyatomic_ion_replaced_point_poscar\u001b[0;34m(poscar_path, nnlist_path, central_atom_symbol, neighboring_atom_symbol, bond_length_lower_end, bond_length_upper_end, generated_poscar_path)\u001b[0m\n\u001b[1;32m     76\u001b[0m     df_poscar_ion_replaced_point \u001b[38;5;241m=\u001b[39m df_nnlist_poscar_merged\u001b[38;5;241m.\u001b[39mdrop(columns\u001b[38;5;241m=\u001b[39m[\u001b[38;5;124m'\u001b[39m\u001b[38;5;124mcentral_atom_id\u001b[39m\u001b[38;5;124m'\u001b[39m, \u001b[38;5;124m'\u001b[39m\u001b[38;5;124mrel_x\u001b[39m\u001b[38;5;124m'\u001b[39m, \u001b[38;5;124m'\u001b[39m\u001b[38;5;124mrel_y\u001b[39m\u001b[38;5;124m'\u001b[39m, \u001b[38;5;124m'\u001b[39m\u001b[38;5;124mrel_z\u001b[39m\u001b[38;5;124m'\u001b[39m])\n\u001b[1;32m     78\u001b[0m     \u001b[38;5;66;03m# 4. 3.で生成したdf_poscar_ion_replaced_pointをdf2poscar()を用いてPOSCARファイルとして書き出す\u001b[39;00m\n\u001b[0;32m---> 79\u001b[0m     \u001b[43mdf2poscar\u001b[49m\u001b[43m(\u001b[49m\u001b[43mdf_poscar_ion_replaced_point\u001b[49m\u001b[43m,\u001b[49m\u001b[43m \u001b[49m\u001b[43moriginal_poscar_path\u001b[49m\u001b[38;5;241;43m=\u001b[39;49m\u001b[43mposcar_path\u001b[49m\u001b[43m,\u001b[49m\u001b[43m \u001b[49m\u001b[43mgenerated_poscar_path\u001b[49m\u001b[38;5;241;43m=\u001b[39;49m\u001b[43mgenerated_poscar_path\u001b[49m\u001b[43m)\u001b[49m\n\u001b[1;32m     81\u001b[0m \u001b[38;5;28;01melse\u001b[39;00m:\n\u001b[1;32m     82\u001b[0m     \u001b[38;5;28;01mpass\u001b[39;00m\n",
      "File \u001b[0;32m/mnt/ssd_elecom_c2c_960gb/scripts/mk_polyatomic_ion_replaced_point_poscar/package_file_conversion/df2poscar.py:44\u001b[0m, in \u001b[0;36mdf2poscar\u001b[0;34m(df, original_poscar_path, generated_poscar_path)\u001b[0m\n\u001b[1;32m     42\u001b[0m \u001b[38;5;28;01mNone\u001b[39;00m \u001b[38;5;28;01mif\u001b[39;00m os\u001b[38;5;241m.\u001b[39mpath\u001b[38;5;241m.\u001b[39mexists(generated_poscar_folder) \u001b[38;5;28;01melse\u001b[39;00m os\u001b[38;5;241m.\u001b[39mmakedirs(generated_poscar_folder)\n\u001b[1;32m     43\u001b[0m \u001b[38;5;66;03m# 新しいPOSCARファイルに書き込む\u001b[39;00m\n\u001b[0;32m---> 44\u001b[0m \u001b[38;5;28;01mwith\u001b[39;00m \u001b[38;5;28;43mopen\u001b[39;49m\u001b[43m(\u001b[49m\u001b[43mgenerated_poscar_path\u001b[49m\u001b[43m,\u001b[49m\u001b[43m \u001b[49m\u001b[38;5;124;43m'\u001b[39;49m\u001b[38;5;124;43mw\u001b[39;49m\u001b[38;5;124;43m'\u001b[39;49m\u001b[43m)\u001b[49m \u001b[38;5;28;01mas\u001b[39;00m outfile:\n\u001b[1;32m     45\u001b[0m     outfile\u001b[38;5;241m.\u001b[39mwritelines(comment_scalingfactor_lattice_line)\n\u001b[1;32m     46\u001b[0m     \u001b[38;5;66;03m# すでに存在するテキストファイルに元素種を追記\u001b[39;00m\n",
      "\u001b[0;31mIsADirectoryError\u001b[0m: [Errno 21] Is a directory: '/mnt/ssd_elecom_c2c_960gb/cif/1/00/00/1000033/CO3_ion_replaced_point/POSCAR'"
     ]
    }
   ],
   "source": [
    "wrap_mk_polyatomic_ion_replaced_point_poscar(list(job_args)[0])"
   ]
  },
  {
   "cell_type": "code",
   "execution_count": null,
   "id": "a2e2f703-9093-44dc-8656-58064f9eb592",
   "metadata": {},
   "outputs": [],
   "source": [
    "# 並列化\n",
    "pp = Pool(cpu_count() - 1)\n",
    "total = len(ion_contained_poscar_folder_p_list)\n",
    "try:\n",
    "    list(tqdm(pp.imap(wrap_nnlist2df_and_concat_filter, job_args), total=total))\n",
    "finally:\n",
    "    pp.close()\n",
    "    pp.join()"
   ]
  }
 ],
 "metadata": {
  "kernelspec": {
   "display_name": "Python 3 (ipykernel)",
   "language": "python",
   "name": "python3"
  },
  "language_info": {
   "codemirror_mode": {
    "name": "ipython",
    "version": 3
   },
   "file_extension": ".py",
   "mimetype": "text/x-python",
   "name": "python",
   "nbconvert_exporter": "python",
   "pygments_lexer": "ipython3",
   "version": "3.10.12"
  }
 },
 "nbformat": 4,
 "nbformat_minor": 5
}
