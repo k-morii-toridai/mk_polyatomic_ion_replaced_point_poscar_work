{
 "cells": [
  {
   "cell_type": "code",
   "execution_count": 1,
   "id": "72608759-7581-452f-8f6d-73988f27dd91",
   "metadata": {
    "tags": []
   },
   "outputs": [],
   "source": [
    "# %load_ext autoreload\n",
    "%reload_ext autoreload\n",
    "%autoreload 2\n",
    "import itertools\n",
    "import pandas as pd\n",
    "from package_file_conversion.poscar2df import poscar2df\n",
    "from package_file_conversion.nnlist2df import nnlist2df\n",
    "from package_bond_search_algorithm.algolithm_bond_search_for_trigonal_pyramidal_planar_shape import concat_filter\n",
    "from package_file_conversion.df2poscar import df2poscar"
   ]
  },
  {
   "cell_type": "code",
   "execution_count": 2,
   "id": "30797e0f-5ed5-442a-8bcc-db07ebc2e069",
   "metadata": {
    "tags": []
   },
   "outputs": [
    {
     "data": {
      "text/plain": [
       "array([PosixPath('/mnt/ssd_elecom_c2c_960gb/cif/1/00/00/1000033'),\n",
       "       PosixPath('/mnt/ssd_elecom_c2c_960gb/cif/1/00/00/1000052'),\n",
       "       PosixPath('/mnt/ssd_elecom_c2c_960gb/cif/1/00/03/1000320'), ...,\n",
       "       PosixPath('/mnt/ssd_elecom_c2c_960gb/cif/9/01/77/9017727'),\n",
       "       PosixPath('/mnt/ssd_elecom_c2c_960gb/cif/9/01/78/9017813'),\n",
       "       PosixPath('/mnt/ssd_elecom_c2c_960gb/cif/9/01/78/9017837')],\n",
       "      dtype=object)"
      ]
     },
     "execution_count": 2,
     "metadata": {},
     "output_type": "execute_result"
    }
   ],
   "source": [
    "### 炭酸イオンを含む結晶構造ファイルパス一覧\n",
    "import numpy as np\n",
    "np.load('/mnt/ssd_elecom_c2c_960gb/scripts/get_some_ion_contained_pos_folder_p_list/CO3_contained_poscar_folder_path_list_ver2.npy', allow_pickle=True)"
   ]
  },
  {
   "cell_type": "code",
   "execution_count": 3,
   "id": "a3d7aebf-bbdb-44b6-9eb7-e4bc9695a29d",
   "metadata": {
    "tags": []
   },
   "outputs": [],
   "source": [
    "def mk_polyatomic_ion_replaced_point_poscar(poscar_path, \n",
    "                                            nnlist_path, central_atom_symbol='C', \n",
    "                                            neighboring_atom_symbol='O', \n",
    "                                            bond_length_lower_end=0.99, \n",
    "                                            bond_length_upper_end=1.66, \n",
    "                                            generated_poscar_path='./ion_replaced_point/POSCAR'):\n",
    "    # 0-1. POSCAR, POSCAR.nnlistをDataFrameに変換する\n",
    "    df_poscar = poscar2df(poscar_path=poscar_path)\n",
    "    df_nnlist = nnlist2df(nnlist_path=nnlist_path)\n",
    "    \n",
    "    # 0-2. 多原子イオンを含むかどうかの判定フィルター関数を実行\n",
    "    central_atom_symbol = central_atom_symbol\n",
    "    neighboring_atom_symbol = neighboring_atom_symbol\n",
    "    bond_length_lower_end = bond_length_lower_end\n",
    "    bond_length_upper_end = bond_length_upper_end\n",
    "    bool_, ion_central_atom_ids = concat_filter(df_nnlist=df_nnlist,\n",
    "                  central_atom_symbol=central_atom_symbol,\n",
    "                  neighboring_atom_symbol=neighboring_atom_symbol,\n",
    "                  bond_length_lower_end=bond_length_lower_end,\n",
    "                  bond_length_upper_end=bond_length_upper_end)\n",
    "    \n",
    "    if bool_:\n",
    "        # 1. 多原子イオンを点で置換した絶対座標のDataFrameを作成\n",
    "        atom_ids_belonging_to_polyatomic_ions = []\n",
    "        for ion_central_atom_id in ion_central_atom_ids: \n",
    "            df_nnlist_ion_central_atom_id_filterd = df_nnlist[df_nnlist['central_atom_id'] == ion_central_atom_id]\n",
    "            df_nnlist_ion_central_atom_id_filterd_sorted = df_nnlist_ion_central_atom_id_filterd.sort_values('rel_distance')\n",
    "            df_nnlist_rel_distance_filter = df_nnlist_ion_central_atom_id_filterd_sorted['rel_distance'] < bond_length_upper_end\n",
    "            df_nnlist_rel_distance_filterd = df_nnlist_ion_central_atom_id_filterd.sort_values('rel_distance')[df_nnlist_rel_distance_filter]\n",
    "            ## 'neighboring_atom_id'カラムをリストとして取得\n",
    "            neighboring_atom_ids = df_nnlist_rel_distance_filterd['neighboring_atom_id'].tolist()\n",
    "            atom_ids_belonging_to_polyatomic_ions.append(neighboring_atom_ids)\n",
    "        # 2重リストを1重リストに変換\n",
    "        atom_ids_belonging_to_polyatomic_ions = list(itertools.chain.from_iterable(atom_ids_belonging_to_polyatomic_ions))\n",
    "        # 数字の順番に並べ替え\n",
    "        atom_ids_belonging_to_polyatomic_ions = sorted(atom_ids_belonging_to_polyatomic_ions, key=lambda s: int(s))\n",
    "        # df_poscarから，多原子イオンに属す原子を抽出するフィルターを作成\n",
    "        atom_ids_belonging_to_polyatomic_ions_filter = df_poscar['atom_id'].apply(lambda s: s in atom_ids_belonging_to_polyatomic_ions)\n",
    "        # df_poscarから，多原子イオンに属さない原子を抽出するフィルターを作成\n",
    "        atom_ids_not_belonging_to_polyatomic_ions_filter = ~atom_ids_belonging_to_polyatomic_ions_filter\n",
    "        # df_poscarから，多原子イオンに属しかつ中心原子となる原子を抽出するフィルターを作成\n",
    "        atom_ids_that_polyatomic_ions_center_filter = df_poscar['atom_id'].apply(lambda s: s in ion_central_atom_ids)\n",
    "        # フィルターを結合し，（多原子イオンに含まれない）または（多原子イオンに含まれかつ多原子イオンの中心）となる行を抽出するフィルターを作成\n",
    "        new_poscar_atom_ids_filter = atom_ids_not_belonging_to_polyatomic_ions_filter | atom_ids_that_polyatomic_ions_center_filter\n",
    "        # 作成したフィルターを適用し，多原子イオンを点で置換した絶対座標のDataFrameを作成\n",
    "        df_poscar_abs_coords = df_poscar[new_poscar_atom_ids_filter]\n",
    "\n",
    "        # 2. 多原子イオンの相対中心座標のDataFrameを作成\n",
    "        df_nnlist_rel_coords_series_list = []\n",
    "        for ion_central_atom_id in ion_central_atom_ids: \n",
    "            df_nnlist_ion_central_atom_id_filterd = df_nnlist[df_nnlist['central_atom_id'] == ion_central_atom_id]\n",
    "            df_nnlist_ion_central_atom_id_filterd_sorted = df_nnlist_ion_central_atom_id_filterd.sort_values('rel_distance')\n",
    "            df_nnlist_rel_distance_filter = df_nnlist_ion_central_atom_id_filterd_sorted['rel_distance'] < bond_length_upper_end    \n",
    "            df_nnlist_rel_distance_filterd = df_nnlist_ion_central_atom_id_filterd.sort_values('rel_distance')[df_nnlist_rel_distance_filter]\n",
    "            ## rel_x, re_y, re_zごとに平均をとる\n",
    "            df_nnlist_rel_distance_filterd_cols_dropped = df_nnlist_rel_distance_filterd[['central_atom_id', 'rel_x', 'rel_y', 'rel_z']]\n",
    "            # 'central_atom_symbol'カラムでgroupbyしmeanを計算した後，groupbyed列(:'central_atom_symbol'カラム)をカラムにする   \n",
    "            df_nnlist_rel_distance_filterd_cols_dropped_meaned = df_nnlist_rel_distance_filterd_cols_dropped.groupby('central_atom_id').mean().reset_index()\n",
    "            df_nnlist_rel_coords_series_list.append(df_nnlist_rel_distance_filterd_cols_dropped_meaned)\n",
    "        # df_nnlist_rel_coords_series_listのSeriesを文字列化して，df_poscarと同じ形式のDataFrameに整形する\n",
    "        df_nnlist_rel_coords_list = [str(s).split(' ')[-4:] for s in df_nnlist_rel_coords_series_list]\n",
    "        df_nnlist_rel_coords = pd.DataFrame(df_nnlist_rel_coords_list, columns=['central_atom_id', 'rel_x', 'rel_y', 'rel_z'])\n",
    "        # 'rel_x', 'rel_y', 'rel_z'カラムをstr型からfloat型に変換\n",
    "        df_nnlist_rel_coords[['rel_x', 'rel_y', 'rel_z']] = df_nnlist_rel_coords[['rel_x', 'rel_y', 'rel_z']].astype(float)\n",
    "\n",
    "        # 3. 1.で得たdf_poscar_abs_coordsと2.で得たdf_nnlist_rel_coordsを足し合わせる\n",
    "        # 足し合わせ計算の便宜上，2つのDataFrameを1つのDataFrameに結合する\n",
    "        df_nnlist_poscar_merged = pd.merge(df_poscar_abs_coords, df_nnlist_rel_coords, left_on='atom_id', right_on='central_atom_id', how='left')\n",
    "        df_nnlist_poscar_merged[['rel_x', 'rel_y', 'rel_z']] = df_nnlist_poscar_merged[['rel_x', 'rel_y', 'rel_z']].fillna(0)\n",
    "        # 多原子イオンの絶対中心座標と相対座標を足し合わせる\n",
    "        df_nnlist_poscar_merged['x'] = df_nnlist_poscar_merged['x'] + df_nnlist_poscar_merged['rel_x']\n",
    "        df_nnlist_poscar_merged['y'] = df_nnlist_poscar_merged['y'] + df_nnlist_poscar_merged['rel_y']\n",
    "        df_nnlist_poscar_merged['z'] = df_nnlist_poscar_merged['z'] + df_nnlist_poscar_merged['rel_z']\n",
    "        # 多原子イオンの絶対中心座標と相対座標の足し合わせのために便宜上用意した，不要なカラムを削除\n",
    "        df_poscar_ion_replaced_point = df_nnlist_poscar_merged.drop(columns=['central_atom_id', 'rel_x', 'rel_y', 'rel_z'])\n",
    "\n",
    "        # 4. 3.で生成したdf_poscar_ion_replaced_pointをdf2poscar()を用いてPOSCARファイルとして書き出す\n",
    "        df2poscar(df_poscar_ion_replaced_point, original_poscar_path=poscar_path, generated_poscar_path='./gen_data/POSCAR')\n",
    "    \n",
    "    else:\n",
    "        pass"
   ]
  },
  {
   "cell_type": "code",
   "execution_count": 4,
   "id": "3a863d48-fabd-4784-8f37-b378114d5482",
   "metadata": {
    "tags": []
   },
   "outputs": [
    {
     "name": "stdout",
     "output_type": "stream",
     "text": [
      "./gen_data/POSCAR に多原子イオンを点置換した情報がPOSCARに書き込まれました．\n"
     ]
    }
   ],
   "source": [
    "poscar_path = '/mnt/ssd_elecom_c2c_960gb/cif/1/00/03/1000320/POSCAR'\n",
    "nnlist_path = '/mnt/ssd_elecom_c2c_960gb/cif/1/00/03/1000320/nnlist_5/POSCAR.nnlist'\n",
    "# 0. 多原子イオンごとの情報をCLIから受け取る\n",
    "central_atom_symbol = 'C'\n",
    "neighboring_atom_symbol = 'O'\n",
    "bond_length_lower_end = 0.99\n",
    "bond_length_upper_end = 1.66\n",
    "generated_poscar_path='./ion_replaced_point/POSCAR'\n",
    "mk_polyatomic_ion_replaced_point_poscar(poscar_path=poscar_path,\n",
    "                                        nnlist_path=nnlist_path,\n",
    "                                        central_atom_symbol=central_atom_symbol,\n",
    "                                        neighboring_atom_symbol=neighboring_atom_symbol,\n",
    "                                        bond_length_lower_end=bond_length_lower_end, \n",
    "                                        bond_length_upper_end=bond_length_upper_end, \n",
    "                                        generated_poscar_path=generated_poscar_path)"
   ]
  }
 ],
 "metadata": {
  "kernelspec": {
   "display_name": "Python 3 (ipykernel)",
   "language": "python",
   "name": "python3"
  },
  "language_info": {
   "codemirror_mode": {
    "name": "ipython",
    "version": 3
   },
   "file_extension": ".py",
   "mimetype": "text/x-python",
   "name": "python",
   "nbconvert_exporter": "python",
   "pygments_lexer": "ipython3",
   "version": "3.10.12"
  }
 },
 "nbformat": 4,
 "nbformat_minor": 5
}
